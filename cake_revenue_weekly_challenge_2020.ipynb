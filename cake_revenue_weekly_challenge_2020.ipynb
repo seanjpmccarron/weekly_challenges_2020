{
 "cells": [
  {
   "cell_type": "markdown",
   "metadata": {},
   "source": [
    "##### Cake Revenue Weekly Challenge\n",
    "\n",
    "Requirements:\n",
    "\n",
    "- Provide report using the data files provided\n",
    "    - Weekly Revenue on Cake Sales\n",
    "    - Monthly Revenue on Cake Sales\n",
    "    - Yearly Revenue on Cake Sales\n",
    "\n",
    "\n",
    "Tasks:\n",
    "\n",
    "\n",
    "- Combine all data files in to one source\n",
    "- Add dates to each row, with the bottom row being today (23/05/2020) \n",
    "- Reverse the data so that today's data is top\n",
    "- Add column to capture total revenue for basic cakes (multiply by 5)\n",
    "- Add column to capture total revenue for deluxe cakes (multiply by 6)\n",
    "- Add Total revenue column which is the sum of basic and delux revenue total\n",
    "\n"
   ]
  },
  {
   "cell_type": "code",
   "execution_count": null,
   "metadata": {
    "ExecuteTime": {
     "end_time": "2020-05-24T09:07:54.617776Z",
     "start_time": "2020-05-24T09:07:52.970516Z"
    }
   },
   "outputs": [],
   "source": [
    "import pandas as pd"
   ]
  },
  {
   "cell_type": "code",
   "execution_count": null,
   "metadata": {
    "ExecuteTime": {
     "end_time": "2020-05-24T09:07:55.331415Z",
     "start_time": "2020-05-24T09:07:55.259862Z"
    },
    "scrolled": true
   },
   "outputs": [],
   "source": [
    "basic_cake_sales_raw = pd.read_csv('Basic.txt')\n",
    "deluxe_cake_sales_raw = pd.read_csv('Delux.txt')\n",
    "total_revenue_cake_sales_raw = pd.read_csv('Total.txt')\n",
    "\n",
    "basic_cake_sales_raw"
   ]
  },
  {
   "cell_type": "code",
   "execution_count": null,
   "metadata": {
    "ExecuteTime": {
     "end_time": "2020-05-24T09:07:55.819187Z",
     "start_time": "2020-05-24T09:07:55.793335Z"
    }
   },
   "outputs": [],
   "source": [
    "deluxe_cake_sales_raw"
   ]
  },
  {
   "cell_type": "code",
   "execution_count": null,
   "metadata": {
    "ExecuteTime": {
     "end_time": "2020-05-24T09:07:56.316022Z",
     "start_time": "2020-05-24T09:07:56.297510Z"
    },
    "scrolled": true
   },
   "outputs": [],
   "source": [
    "total_revenue_cake_sales_raw"
   ]
  },
  {
   "cell_type": "code",
   "execution_count": null,
   "metadata": {
    "ExecuteTime": {
     "end_time": "2020-05-24T09:07:56.813352Z",
     "start_time": "2020-05-24T09:07:56.779514Z"
    },
    "scrolled": true
   },
   "outputs": [],
   "source": [
    "basic_cake_sales_raw['Delux Cupcakes'] = deluxe_cake_sales_raw['Delux Cupcakes:'].values\n",
    "basic_cake_sales_raw['Total'] = total_revenue_cake_sales_raw['Total:'].values\n",
    "basic_cake_sales_raw"
   ]
  },
  {
   "cell_type": "code",
   "execution_count": null,
   "metadata": {
    "ExecuteTime": {
     "end_time": "2020-05-24T09:07:57.311919Z",
     "start_time": "2020-05-24T09:07:57.278666Z"
    },
    "scrolled": true
   },
   "outputs": [],
   "source": [
    "combined_raw_data_df = basic_cake_sales_raw.copy()\n",
    "combined_raw_data_df"
   ]
  },
  {
   "cell_type": "code",
   "execution_count": null,
   "metadata": {
    "ExecuteTime": {
     "end_time": "2020-05-24T09:07:57.814320Z",
     "start_time": "2020-05-24T09:07:57.764769Z"
    },
    "scrolled": true
   },
   "outputs": [],
   "source": [
    "combined_raw_data_df['created_date'] = pd.date_range(end='23/5/2020', periods=len(combined_raw_data_df), freq='D')\n",
    "combined_raw_data_df"
   ]
  },
  {
   "cell_type": "code",
   "execution_count": null,
   "metadata": {
    "ExecuteTime": {
     "end_time": "2020-05-24T09:07:58.273575Z",
     "start_time": "2020-05-24T09:07:58.244414Z"
    },
    "scrolled": true
   },
   "outputs": [],
   "source": [
    "combined_ordered_raw_data_df = combined_raw_data_df[::-1]\n",
    "combined_ordered_raw_data_df\n"
   ]
  },
  {
   "cell_type": "code",
   "execution_count": null,
   "metadata": {
    "ExecuteTime": {
     "end_time": "2020-05-24T09:07:58.832552Z",
     "start_time": "2020-05-24T09:07:58.792578Z"
    }
   },
   "outputs": [],
   "source": [
    "combined_columns_ordered_raw_data_df = combined_ordered_raw_data_df[['created_date', 'Basic Cupcake:', 'Delux Cupcakes', 'Total']].reset_index(drop=True)\n",
    "combined_columns_ordered_raw_data_df"
   ]
  },
  {
   "cell_type": "code",
   "execution_count": null,
   "metadata": {
    "ExecuteTime": {
     "end_time": "2020-05-24T09:07:59.797134Z",
     "start_time": "2020-05-24T09:07:59.729281Z"
    },
    "scrolled": true
   },
   "outputs": [],
   "source": [
    "fresh_df = combined_columns_ordered_raw_data_df.copy()\n",
    "fresh_df\n",
    "\n",
    "\n",
    "fresh_df['Total Basic Cupcake'] = fresh_df['Basic Cupcake:'] * 5\n",
    "fresh_df\n",
    "\n",
    "\n",
    "fresh_df['Total Deluxe Cupcake'] = fresh_df['Delux Cupcakes'] * 6\n",
    "fresh_df\n",
    "\n",
    "final_basic_draft_df = fresh_df[['created_date', 'Basic Cupcake:', 'Delux Cupcakes', 'Total Basic Cupcake', 'Total Deluxe Cupcake', 'Total']]\n",
    "final_basic_draft_df\n"
   ]
  },
  {
   "cell_type": "code",
   "execution_count": null,
   "metadata": {
    "ExecuteTime": {
     "end_time": "2020-05-24T09:08:00.574039Z",
     "start_time": "2020-05-24T09:08:00.539520Z"
    }
   },
   "outputs": [],
   "source": [
    "daily_cake_revenue_df = final_basic_draft_df.set_index('created_date')\n",
    "daily_cake_revenue_df"
   ]
  },
  {
   "cell_type": "code",
   "execution_count": null,
   "metadata": {
    "ExecuteTime": {
     "end_time": "2020-05-24T09:08:01.320107Z",
     "start_time": "2020-05-24T09:08:01.278651Z"
    }
   },
   "outputs": [],
   "source": [
    "yearly_cake_revenue = daily_cake_revenue_df.resample('AS-MAY').sum()\n",
    "yearly_cake_revenue\n"
   ]
  },
  {
   "cell_type": "code",
   "execution_count": null,
   "metadata": {
    "ExecuteTime": {
     "end_time": "2020-05-24T09:08:02.164972Z",
     "start_time": "2020-05-24T09:08:02.115117Z"
    },
    "scrolled": true
   },
   "outputs": [],
   "source": [
    "monthly_cake_revenue = daily_cake_revenue_df.resample('MS').sum()\n",
    "monthly_cake_revenue"
   ]
  },
  {
   "cell_type": "code",
   "execution_count": null,
   "metadata": {
    "ExecuteTime": {
     "end_time": "2020-05-24T09:08:02.903987Z",
     "start_time": "2020-05-24T09:08:02.849467Z"
    },
    "scrolled": false
   },
   "outputs": [],
   "source": [
    "weekly_cake_revenue = daily_cake_revenue_df.resample('W-MON').sum()\n",
    "weekly_cake_revenue\n"
   ]
  },
  {
   "cell_type": "code",
   "execution_count": null,
   "metadata": {
    "ExecuteTime": {
     "end_time": "2020-05-24T09:13:54.928656Z",
     "start_time": "2020-05-24T09:13:54.920461Z"
    }
   },
   "outputs": [],
   "source": [
    "def validate_total_revenue_for_data_set(df, column):\n",
    "    return df[column].sum()\n",
    "    \n",
    "\n",
    "\n",
    "\n",
    "print(f\"Total Weekly Revenue Dataset: £{validate_total_revenue_for_data_set(weekly_cake_revenue, 'Total')}\")\n",
    "print(f\"Total Monthly Revenue Dataset: £{validate_total_revenue_for_data_set(monthly_cake_revenue, 'Total')}\")\n",
    "print(f\"Total Yearly Revenue Dataset: £{validate_total_revenue_for_data_set(yearly_cake_revenue, 'Total')}\")\n"
   ]
  },
  {
   "cell_type": "code",
   "execution_count": null,
   "metadata": {
    "ExecuteTime": {
     "end_time": "2020-05-24T09:13:56.494064Z",
     "start_time": "2020-05-24T09:13:56.445743Z"
    }
   },
   "outputs": [],
   "source": [
    "with pd.option_context(\"display.max_rows\", 999, \"display.max_columns\", 10):\n",
    "    cake_revenue_overall_view = daily_cake_revenue_df.groupby([(daily_cake_revenue_df.index.year.rename('Year')),\n",
    "                                                           (daily_cake_revenue_df.index.month.rename('Month')),\n",
    "                                                           (daily_cake_revenue_df.index.week.rename('Week'))]).sum()\n",
    "\n",
    "    display(cake_revenue_overall_view)\n",
    "\n"
   ]
  },
  {
   "cell_type": "code",
   "execution_count": null,
   "metadata": {
    "ExecuteTime": {
     "end_time": "2020-05-24T09:14:01.245953Z",
     "start_time": "2020-05-24T09:14:01.192931Z"
    }
   },
   "outputs": [],
   "source": [
    "with pd.option_context(\"display.max_rows\", 999, \"display.max_columns\", 10):\n",
    "    final_cake_revenue_overall_view = cake_revenue_overall_view.rename(columns={\"Basic Cupcake:\": \"Basic Cupcakes Sold\",\n",
    "                                              \"Delux Cupcakes\": \"Deluxe Cupcakes Sold\",\n",
    "                                              \"Total Basic Cupcake\": \"Total Basic Cupcake Revenue\",\n",
    "                                              \"Total Deluxe Cupcake\": \"Total Deluxe Cupcake Revenue\",\n",
    "                                              \"Total\": \"Total Overall Cupcake Revenue\"})\n",
    "    display(final_cake_revenue_overall_view)"
   ]
  },
  {
   "cell_type": "code",
   "execution_count": null,
   "metadata": {
    "ExecuteTime": {
     "end_time": "2020-05-24T09:15:00.268769Z",
     "start_time": "2020-05-24T09:15:00.217410Z"
    },
    "scrolled": true
   },
   "outputs": [],
   "source": [
    "currency_included_cake_revenue_overall_view = cake_revenue_overall_view.copy()\n",
    "\n",
    "currency_included_cake_revenue_overall_view[['Total','Total Basic Cupcake','Total Deluxe Cupcake']] = currency_included_cake_revenue_overall_view[['Total','Total Basic Cupcake','Total Deluxe Cupcake']].applymap('£{:,.2f}'.format)\n",
    "\n",
    "currency_included_cake_revenue_overall_view"
   ]
  }
 ],
 "metadata": {
  "kernelspec": {
   "display_name": "Python 3.7.6 64-bit ('aws': conda)",
   "language": "python",
   "name": "python37664bitawscondadc7dd8adede046d1a312bac4eba0d2b5"
  },
  "language_info": {
   "codemirror_mode": {
    "name": "ipython",
    "version": 3
   },
   "file_extension": ".py",
   "mimetype": "text/x-python",
   "name": "python",
   "nbconvert_exporter": "python",
   "pygments_lexer": "ipython3",
   "version": "3.7.6"
  },
  "toc": {
   "base_numbering": 1,
   "nav_menu": {},
   "number_sections": true,
   "sideBar": true,
   "skip_h1_title": false,
   "title_cell": "Table of Contents",
   "title_sidebar": "Contents",
   "toc_cell": false,
   "toc_position": {},
   "toc_section_display": true,
   "toc_window_display": false
  }
 },
 "nbformat": 4,
 "nbformat_minor": 4
}
